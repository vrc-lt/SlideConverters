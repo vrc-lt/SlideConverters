{
  "nbformat": 4,
  "nbformat_minor": 0,
  "metadata": {
    "colab": {
      "name": "vrc-lt-converter",
      "provenance": [],
      "collapsed_sections": [],
      "include_colab_link": true
    },
    "kernelspec": {
      "name": "python3",
      "display_name": "Python 3"
    },
    "language_info": {
      "name": "python"
    }
  },
  "cells": [
    {
      "cell_type": "markdown",
      "metadata": {
        "id": "view-in-github",
        "colab_type": "text"
      },
      "source": [
        "<a href=\"https://colab.research.google.com/github/vrc-lt/SlideConverters/blob/main/colab/vrc_lt_converter.ipynb\" target=\"_parent\"><img src=\"https://colab.research.google.com/assets/colab-badge.svg\" alt=\"Open In Colab\"/></a>"
      ]
    },
    {
      "cell_type": "markdown",
      "source": [
        "# VRC-LT スライド変換ツール\n",
        "以前使用したことがある方はランタイム→ランタイムを出荷時設定にリセット\n",
        "を選択してから全てのセルを実行を選択してください。"
      ],
      "metadata": {
        "id": "OJ6zTFo8AlRF"
      }
    },
    {
      "cell_type": "code",
      "source": [
        "#@title PDFファイルをアップロードしてください\n",
        "from google.colab import files\n",
        "result = files.upload()\n",
        "pdf_file_name = list(result.keys())[0]\n"
      ],
      "metadata": {
        "cellView": "form",
        "id": "ke7xDndQfVoG"
      },
      "execution_count": null,
      "outputs": []
    },
    {
      "cell_type": "code",
      "source": [
        "#@title 環境をセットアップしています...\n",
        "!sudo apt update\n",
        "!sudo apt install xpdf"
      ],
      "metadata": {
        "id": "imAz2ee-Zell"
      },
      "execution_count": null,
      "outputs": []
    },
    {
      "cell_type": "code",
      "source": [
        "#@title 変換しています...\n",
        "!echo $pdf_file_name\n",
        "!pdftoppm -scale-to-x 1280 -scale-to-y 720 -png \"$pdf_file_name\" image \n",
        "!ffmpeg -y -pattern_type glob -r 1/2 -i \"image-*.png\" -c:v libx264 -r 30 -pix_fmt yuv420p result.mp4\n"
      ],
      "metadata": {
        "id": "X5_YlHOgeLIY",
        "cellView": "form"
      },
      "execution_count": null,
      "outputs": []
    },
    {
      "cell_type": "code",
      "source": [
        "files.download(\"result.mp4\")"
      ],
      "metadata": {
        "id": "ykJ1MMQRi2Wj"
      },
      "execution_count": null,
      "outputs": []
    },
    {
      "cell_type": "code",
      "source": [
        "\n",
        "!rm image-*.png\n"
      ],
      "metadata": {
        "id": "D3CIWw00lJj_"
      },
      "execution_count": null,
      "outputs": []
    },
    {
      "cell_type": "markdown",
      "source": [],
      "metadata": {
        "id": "HLyKQWM-lIC8"
      }
    }
  ]
}